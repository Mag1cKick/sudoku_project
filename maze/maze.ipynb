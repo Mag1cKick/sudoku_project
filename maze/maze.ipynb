{
 "cells": [
  {
   "cell_type": "code",
   "execution_count": 1,
   "metadata": {},
   "outputs": [
    {
     "name": "stderr",
     "output_type": "stream",
     "text": [
      "2024-05-13 23:46:35.524 Python[58647:56279698] WARNING: Secure coding is not enabled for restorable state! Enable secure coding by implementing NSApplicationDelegate.applicationSupportsSecureRestorableState: and returning YES.\n"
     ]
    }
   ],
   "source": [
    "import turtle\n",
    "import random\n",
    "\n",
    "myPen = turtle.Turtle()\n",
    "myPen._tracer(0)\n",
    "myPen.speed(0)\n",
    "myPen.hideturtle()\n",
    "\n",
    "palette=[\"#b0aae3\",\"#250045\",\"#ff4f87\",\"#887dff\",\"#9354d6\"]"
   ]
  },
  {
   "cell_type": "markdown",
   "metadata": {},
   "source": [
    "# Draw box \n",
    "draws a box by drawing each side of the square and using the fill function"
   ]
  },
  {
   "cell_type": "code",
   "execution_count": 2,
   "metadata": {},
   "outputs": [],
   "source": [
    "def box(intDim):\n",
    "    myPen.begin_fill()\n",
    "    # 0 deg.\n",
    "    myPen.forward(intDim)\n",
    "    myPen.left(90)\n",
    "    # 90 deg.\n",
    "    myPen.forward(intDim)\n",
    "    myPen.left(90)\n",
    "    # 180 deg.\n",
    "    myPen.forward(intDim)\n",
    "    myPen.left(90)\n",
    "    # 270 deg.\n",
    "    myPen.forward(intDim)\n",
    "    myPen.end_fill()\n",
    "    myPen.setheading(0)\n",
    "\t"
   ]
  },
  {
   "cell_type": "markdown",
   "metadata": {},
   "source": [
    "# Default mazes"
   ]
  },
  {
   "cell_type": "code",
   "execution_count": 3,
   "metadata": {},
   "outputs": [],
   "source": [
    "maze_1 = [[1,0,1,1,1,1,1,1,1,1,1,1,1,1,1,1],\n",
    "        [1,0,1,1,0,0,0,0,0,1,0,0,0,1,0,1],\n",
    "        [1,0,0,1,0,1,1,1,0,0,0,1,0,1,0,1],\n",
    "        [1,1,0,1,0,0,0,1,1,0,1,0,0,1,0,1],\n",
    "        [1,0,0,0,0,1,0,1,0,0,1,0,1,0,0,1],\n",
    "        [1,0,1,0,1,0,0,1,1,1,1,1,0,1,0,1],\n",
    "        [1,0,1,1,1,0,1,1,0,0,0,0,0,0,0,1],\n",
    "        [1,0,0,0,1,1,1,0,0,1,0,1,0,1,1,1],\n",
    "        [1,0,1,0,1,0,0,0,1,1,0,1,0,1,0,1],\n",
    "        [1,0,1,0,1,0,1,1,0,0,1,0,0,0,0,1],\n",
    "        [1,0,1,0,1,0,0,0,1,0,1,1,0,1,1,1],\n",
    "        [1,0,1,1,1,1,1,0,0,0,1,0,0,0,0,1],\n",
    "        [1,0,0,0,0,0,1,1,1,0,1,0,1,1,0,1],\n",
    "        [1,1,1,0,1,0,1,0,1,0,1,0,1,0,0,1],\n",
    "        [1,0,0,0,1,0,0,0,0,0,1,0,0,1,0,2],\n",
    "        [1,1,1,1,1,1,1,1,1,1,1,1,1,1,1,1]]\n",
    "\n",
    "maze_2 = [[1, 1, 1, 1, 1, 1, 1, 1, 1, 1, 1, 1, 1, 1, 1], \n",
    "          [1, 0, 0, 0, 1, 0, 0, 0, 1, 0, 1, 0, 0, 0, 1], \n",
    "          [1, 1, 1, 0, 1, 0, 1, 0, 1, 0, 1, 0, 1, 0, 1], \n",
    "          [1, 0, 1, 0, 0, 0, 1, 0, 1, 0, 1, 0, 1, 0, 1], \n",
    "          [1, 0, 1, 1, 1, 1, 1, 0, 1, 0, 1, 0, 1, 0, 1], \n",
    "          [1, 0, 0, 0, 1, 0, 1, 0, 1, 0, 0, 0, 1, 0, 1], \n",
    "          [1, 1, 1, 0, 1, 0, 1, 0, 1, 0, 1, 1, 1, 0, 1], \n",
    "          [1, 0, 1, 0, 1, 0, 1, 0, 1, 0, 1, 0, 0, 0, 1], \n",
    "          [1, 0, 1, 0, 1, 0, 1, 0, 1, 1, 1, 0, 1, 0, 1], \n",
    "          [1, 0, 1, 0, 0, 0, 1, 0, 1, 0, 0, 0, 1, 0, 1], \n",
    "          [1, 1, 1, 1, 1, 0, 1, 0, 1, 0, 1, 1, 1, 0, 1], \n",
    "          [1, 0, 0, 0, 1, 0, 1, 0, 1, 0, 1, 0, 1, 0, 1], \n",
    "          [1, 0, 1, 0, 1, 0, 1, 1, 1, 0, 1, 0, 1, 0, 1], \n",
    "          [1, 0, 1, 0, 0, 0, 0, 0, 0, 0, 1, 0, 0, 0, 1], \n",
    "          [1, 1, 1, 1, 1, 1, 1, 1, 1, 1, 1, 2, 1, 1, 1]]\n",
    "\n",
    "maze_3 = [[1, 1, 1, 1, 1, 1, 1, 1, 1, 1, 1, 1, 1, 1, 1], \n",
    "          [1, 0, 1, 0, 0, 0, 0, 0, 1, 0, 0, 0, 0, 0, 1], \n",
    "          [1, 0, 1, 0, 1, 0, 1, 0, 1, 0, 1, 1, 1, 0, 1], \n",
    "          [1, 0, 0, 0, 1, 0, 1, 0, 1, 0, 0, 0, 1, 0, 1], \n",
    "          [1, 0, 1, 1, 1, 0, 1, 0, 1, 1, 1, 0, 1, 0, 1], \n",
    "          [1, 0, 1, 0, 0, 0, 1, 0, 1, 0, 0, 0, 1, 0, 1], \n",
    "          [1, 1, 1, 0, 1, 1, 1, 1, 1, 0, 1, 1, 1, 0, 1], \n",
    "          [1, 0, 1, 0, 1, 0, 0, 0, 1, 0, 0, 0, 1, 0, 1], \n",
    "          [1, 0, 1, 0, 1, 0, 1, 0, 1, 1, 1, 0, 1, 0, 1], \n",
    "          [1, 0, 1, 0, 0, 0, 1, 0, 0, 0, 0, 0, 1, 0, 1], \n",
    "          [1, 0, 1, 1, 1, 1, 1, 1, 1, 0, 1, 1, 1, 0, 1], \n",
    "          [1, 0, 1, 0, 0, 0, 0, 0, 1, 0, 1, 0, 0, 0, 1], \n",
    "          [1, 0, 1, 0, 1, 1, 1, 0, 1, 1, 1, 0, 1, 0, 1], \n",
    "          [1, 0, 0, 0, 1, 0, 0, 0, 0, 0, 0, 0, 1, 0, 1], \n",
    "          [1, 1, 1, 2, 1, 1, 1, 1, 1, 1, 1, 1, 1, 1, 1]]"
   ]
  },
  {
   "cell_type": "markdown",
   "metadata": {},
   "source": [
    "# Draw maze"
   ]
  },
  {
   "cell_type": "code",
   "execution_count": 4,
   "metadata": {},
   "outputs": [],
   "source": [
    "def drawMaze(maze):\n",
    "    boxSize = 20\t\n",
    "    # Position myPen in top left area of the screen\n",
    "    myPen.penup()\n",
    "    myPen.goto(-130, 130)\n",
    "    myPen.setheading(0)\n",
    "    \n",
    "    for i in range(len(maze)):\n",
    "        for j in range(len(maze[i])):\n",
    "            myPen.color(palette[maze[i][j]])\n",
    "            box(boxSize)\n",
    "            myPen.penup()\n",
    "            myPen.forward(boxSize)\n",
    "            myPen.pendown()\n",
    "        myPen.penup()\n",
    "        myPen.goto(-130, myPen.ycor() - boxSize)  # Move to the next row\n",
    "        myPen.pendown()"
   ]
  },
  {
   "cell_type": "markdown",
   "metadata": {},
   "source": [
    "# Backtracking explore\n",
    "\n",
    "using recursion to implement backtracking"
   ]
  },
  {
   "cell_type": "code",
   "execution_count": 5,
   "metadata": {},
   "outputs": [],
   "source": [
    "def exploreMaze(maze,row,col):\n",
    "\n",
    "    if maze[row][col]==2:\n",
    "        #We found the exit\n",
    "        return True\n",
    "\n",
    "    elif maze[row][col]==0: #Empty path, not explored\n",
    "        maze[row][col]=3\n",
    "        myPen.clear()\n",
    "        drawMaze(maze) \n",
    "        myPen.getscreen().update()     \n",
    "   \n",
    "        if row<len(maze)-1:\n",
    "            #Explore path below\n",
    "            if exploreMaze(maze,row+1,col):\n",
    "                return True\n",
    "\n",
    "        if row>0:\n",
    "            #Explore path above\n",
    "            if exploreMaze(maze,row-1,col):\n",
    "                return True\n",
    "\n",
    "        if col<len(maze[row])-1:\n",
    "            #Explore path to the right\n",
    "            if exploreMaze(maze,row,col+1):\n",
    "                return True\n",
    "\n",
    "        if col>0:\n",
    "            #Explore path to the left\n",
    "            if exploreMaze(maze,row,col-1):\n",
    "                return True\n",
    "\n",
    "        #Backtrack\n",
    "        maze[row][col]=4    \n",
    "        myPen.clear()\n",
    "        drawMaze(maze) \n",
    "        myPen.getscreen().update()            \n",
    "      \n",
    "        print(\"Backtrack\")\n"
   ]
  },
  {
   "cell_type": "code",
   "execution_count": 6,
   "metadata": {},
   "outputs": [
    {
     "name": "stdout",
     "output_type": "stream",
     "text": [
      "Backtrack\n",
      "Backtrack\n",
      "Backtrack\n",
      "Backtrack\n",
      "Backtrack\n",
      "Backtrack\n",
      "Maze Solved\n"
     ]
    }
   ],
   "source": [
    "drawMaze(maze_3) \n",
    "\n",
    "solved = exploreMaze(maze_3,1,1)\n",
    "if solved:\n",
    "    print(\"Maze Solved\")\n",
    "else:  \n",
    "    print(\"Cannot Solve Maze\")\n",
    "\n",
    "myPen.getscreen().update()\t\n",
    "myPen.getscreen().exitonclick()\n"
   ]
  },
  {
   "cell_type": "markdown",
   "metadata": {},
   "source": [
    "![image](image_.png)\n",
    "\n",
    "the lightest color represents the unexplored paths, the darkest is explored, which leads nowhere, pink box is a finish"
   ]
  }
 ],
 "metadata": {
  "kernelspec": {
   "display_name": "Python 3",
   "language": "python",
   "name": "python3"
  },
  "language_info": {
   "codemirror_mode": {
    "name": "ipython",
    "version": 3
   },
   "file_extension": ".py",
   "mimetype": "text/x-python",
   "name": "python",
   "nbconvert_exporter": "python",
   "pygments_lexer": "ipython3",
   "version": "3.11.5"
  }
 },
 "nbformat": 4,
 "nbformat_minor": 2
}
